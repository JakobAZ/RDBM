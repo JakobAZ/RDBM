{
 "cells": [
  {
   "attachments": {},
   "cell_type": "markdown",
   "metadata": {},
   "source": [
    "# Get the content from LOTR-Wiki"
   ]
  },
  {
   "attachments": {},
   "cell_type": "markdown",
   "metadata": {},
   "source": [
    "Let's use the site map instead of crawling classically :)"
   ]
  },
  {
   "cell_type": "code",
   "execution_count": null,
   "metadata": {},
   "outputs": [],
   "source": [
    "import requests\n",
    "import xml.etree.ElementTree as ET\n",
    "\n",
    "sitemaps = \"\"\"https://lotr.fandom.com/sitemap-newsitemapxml-NS_0-id-2-43291.xml\n",
    "https://lotr.fandom.com/sitemap-newsitemapxml-NS_0-id-43291-55198.xml\n",
    "https://lotr.fandom.com/sitemap-newsitemapxml-NS_14-id-21-55165.xml\"\"\".split(\"\\n\")\n",
    "\n",
    "r = requests.get(sitemaps[0])\n",
    "root = ET.fromstring(r.text)\n",
    "print(root.tag, root.tail, root.attrib, f\"Has {len([0 for child in root])} children\" )\n"
   ]
  },
  {
   "cell_type": "code",
   "execution_count": null,
   "metadata": {},
   "outputs": [],
   "source": [
    "def pre_order(root:ET.Element, indents=0):\n",
    "    print(\"\\t\"*indents, root.text)\n",
    "    for child in root:\n",
    "        pre_order(child, indents+1)\n",
    "\n",
    "pre_order(root)\n"
   ]
  },
  {
   "attachments": {},
   "cell_type": "markdown",
   "metadata": {},
   "source": [
    "Alright, so a bunch of stuff but site links are separated from everything else by newlines. let's use that fact to get a list of all sites and count how many there are."
   ]
  },
  {
   "cell_type": "code",
   "execution_count": null,
   "metadata": {},
   "outputs": [],
   "source": [
    "sites = []\n",
    "def fill_sites(root:ET.Element):\n",
    "    sites.extend(list(filter(lambda x : \"https\" in x, root.text.split(\"\\n\"))))\n",
    "    for child in root:\n",
    "        fill_sites(child)\n",
    "\n",
    "for sitemap in sitemaps:\n",
    "    r = requests.get(sitemap)\n",
    "    root = ET.fromstring(r.text)\n",
    "    fill_sites(root)\n",
    "len(sites), sites\n"
   ]
  },
  {
   "cell_type": "code",
   "execution_count": null,
   "metadata": {},
   "outputs": [],
   "source": []
  },
  {
   "cell_type": "code",
   "execution_count": null,
   "metadata": {},
   "outputs": [],
   "source": [
    "from bs4 import BeautifulSoup\n",
    "\n",
    "soup = BeautifulSoup(r.content, \"html.parser\")\n",
    "links = soup.find_all(\"a\")\n",
    "links"
   ]
  },
  {
   "cell_type": "code",
   "execution_count": null,
   "metadata": {},
   "outputs": [],
   "source": [
    "for link in links:\n",
    "    print(link['href'])"
   ]
  },
  {
   "attachments": {},
   "cell_type": "markdown",
   "metadata": {},
   "source": [
    "# Set up and fill the RDB"
   ]
  },
  {
   "cell_type": "code",
   "execution_count": null,
   "metadata": {},
   "outputs": [],
   "source": [
    "import sqlite3 as sql\n",
    "\n",
    "conn = sql.connect('LOTR.db')"
   ]
  }
 ],
 "metadata": {
  "kernelspec": {
   "display_name": ".venv",
   "language": "python",
   "name": "python3"
  },
  "language_info": {
   "codemirror_mode": {
    "name": "ipython",
    "version": 3
   },
   "file_extension": ".py",
   "mimetype": "text/x-python",
   "name": "python",
   "nbconvert_exporter": "python",
   "pygments_lexer": "ipython3",
   "version": "3.11.3"
  },
  "orig_nbformat": 4
 },
 "nbformat": 4,
 "nbformat_minor": 2
}
