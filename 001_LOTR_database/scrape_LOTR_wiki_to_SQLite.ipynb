{
 "cells": [
  {
   "attachments": {},
   "cell_type": "markdown",
   "metadata": {},
   "source": [
    "# Functions for scraping the wiki"
   ]
  },
  {
   "cell_type": "code",
   "execution_count": null,
   "metadata": {},
   "outputs": [],
   "source": [
    "import requests\n",
    "import xml.etree.ElementTree as ET\n",
    "from bs4 import BeautifulSoup\n",
    "import numpy as np\n",
    "import bs4\n",
    "import typing\n",
    "\n",
    "\n",
    "\n",
    "def get_site_list(root:ET.Element, sites=[]):\n",
    "    sites.extend(list(filter(lambda x : \"https\" in x, root.text.split(\"\\n\"))))\n",
    "    for child in root:\n",
    "        get_site_list(child, sites)\n",
    "    return sites\n",
    "\n",
    "def open_site(url:str)->bs4.BeautifulSoup:\n",
    "    r = requests.get(url)\n",
    "    soup = BeautifulSoup(r.content, \"html.parser\")\n",
    "    return soup\n",
    "\n",
    "def get_overview_section(soup:bs4.BeautifulSoup):\n",
    "    ret_string = \"\"\n",
    "    ele = soup.find(id=\"toc\").previous_sibling\n",
    "    go_on = True\n",
    "    while go_on:\n",
    "        ret_string = ele.get_text().strip() + \"\\n\" + ret_string\n",
    "        ele = ele.previous_sibling\n",
    "        try:\n",
    "            go_on = (len(ele.findAll(\"aside\") )==0) and (ele.name != \"aside\" and ele is not None)\n",
    "        except:\n",
    "            pass\n",
    "    return ret_string.strip()\n",
    "\n",
    "def find_sidebar(asides):\n",
    "    h2_text = [item.get_text().strip() for item in asides[0].find_all(\"h2\")]\n",
    "    for sidebar in asides: # Looking through the <aside>-tags and stopping the search when we found the right one\n",
    "        h2_text = [item.get_text().strip() for item in sidebar.find_all(\"h2\")]\n",
    "        if title in h2_text:\n",
    "            break\n",
    "    return sidebar\n",
    "\n",
    "def get_section_content(section: bs4.element.Tag)-> dict: \n",
    "    ret_dict = dict()\n",
    "    for item in section.find_all(\"h3\"):    \n",
    "        val = item.nextSibling.nextSibling.getText()\n",
    "        ret_dict[item.getText()] = val\n",
    "    return section.find(\"h2\").getText() ,ret_dict\n",
    "\n",
    "def get_sidebar_content(sidebar: bs4.element.Tag):\n",
    "    sections = sidebar.find_all(\"section\")\n",
    "    ret_dict = dict()\n",
    "    for section in sections:\n",
    "        key, value = get_section_content(section)\n",
    "        ret_dict[key] = value\n",
    "    return ret_dict\n",
    "\n",
    "def get_overview_section(soup:bs4.BeautifulSoup):\n",
    "    ret_string = \"\"\n",
    "    ele = soup.find(id=\"toc\").previous_sibling\n",
    "    go_on = True\n",
    "    while go_on:\n",
    "        ret_string = ele.get_text().strip() + \"\\n\" + ret_string\n",
    "        ele = ele.previous_sibling\n",
    "        try:\n",
    "            go_on = (len(ele.findAll(\"aside\") )==0) and (ele.name != \"aside\" and ele is not None)\n",
    "        except:\n",
    "            pass\n",
    "    return ret_string.strip()\n",
    "\n",
    "def scrape(soup:bs4.BeautifulSoup, categories:list):\n",
    "    title = soup.find(id=\"firstHeading\").get_text().strip()\n",
    "    sidebar = find_sidebar(soup.find_all(\"aside\"))\n",
    "    sidebar_content = get_sidebar_content(sidebar)\n",
    "    overview_section = get_overview_section(soup)\n",
    "    return (title, sidebar_content, overview_section)\n",
    "\n",
    "def write_to_DB(title:str, sidebar:dict, overview:str, db)->None:\n",
    "    raise NotImplementedError(\"Sorry, this is not yet implemented!\")\n",
    "    "
   ]
  },
  {
   "attachments": {},
   "cell_type": "markdown",
   "metadata": {},
   "source": [
    "# Set up the sqlite database"
   ]
  },
  {
   "cell_type": "code",
   "execution_count": null,
   "metadata": {},
   "outputs": [],
   "source": [
    "import sqlite3\n",
    "raise NotImplementedError"
   ]
  },
  {
   "attachments": {},
   "cell_type": "markdown",
   "metadata": {},
   "source": [
    "# Main Program"
   ]
  },
  {
   "cell_type": "code",
   "execution_count": null,
   "metadata": {},
   "outputs": [],
   "source": [
    "#Main program\n",
    "\n",
    "import time\n",
    "\n",
    "sitemaps = \"\"\"https://lotr.fandom.com/sitemap-newsitemapxml-NS_0-id-2-43291.xml\n",
    "https://lotr.fandom.com/sitemap-newsitemapxml-NS_0-id-43291-55198.xml\n",
    "https://lotr.fandom.com/sitemap-newsitemapxml-NS_14-id-21-55165.xml\"\"\".split(\"\\n\")\n",
    "\n",
    "sites = []\n",
    "for sitemap in sitemaps:\n",
    "    r = requests.get(sitemap)\n",
    "    root = ET.fromstring(r.text)\n",
    "    sites.extend(get_site_list(root))\n",
    "\n",
    "counter, limit = 0, 2\n",
    "\n",
    "for site in sites[1:]: # zeroth site is the main page \n",
    "    # __________ Some code to help slow down and limit the traffic for LOTR wiki at least while we are still testing.___________________\n",
    "    counter +=1\n",
    "    if counter >= limit:\n",
    "        break\n",
    "    time.sleep(1)\n",
    "    soup = open_site(site)\n",
    "    categories = [item[\"data-name\"] for item in soup.find_all(\"li\", {\"class\":\"category normal\"})]\n",
    "    if \"Real world\" in categories:\n",
    "        continue # Skip this one, we only want to know about fictional characters, places, items etc.\n",
    "    site_info = scrape(soup, categories)\n",
    "    write_to_DB(*site_info, connection)\n",
    "\n"
   ]
  },
  {
   "attachments": {},
   "cell_type": "markdown",
   "metadata": {},
   "source": [
    "# History\n",
    "\n",
    "This section of the notebook records and decribes the process I followed to get to the resulting code above."
   ]
  },
  {
   "attachments": {},
   "cell_type": "markdown",
   "metadata": {},
   "source": [
    "## Mapping out the website"
   ]
  },
  {
   "attachments": {},
   "cell_type": "markdown",
   "metadata": {},
   "source": [
    "Let's use the site map instead of crawling classically :)"
   ]
  },
  {
   "cell_type": "code",
   "execution_count": 1,
   "metadata": {},
   "outputs": [
    {
     "name": "stdout",
     "output_type": "stream",
     "text": [
      "{http://www.sitemaps.org/schemas/sitemap/0.9}urlset None {} Has 5001 children\n"
     ]
    }
   ],
   "source": [
    "import requests\n",
    "import xml.etree.ElementTree as ET\n",
    "\n",
    "sitemaps = \"\"\"https://lotr.fandom.com/sitemap-newsitemapxml-NS_0-id-2-43291.xml\n",
    "https://lotr.fandom.com/sitemap-newsitemapxml-NS_0-id-43291-55198.xml\n",
    "https://lotr.fandom.com/sitemap-newsitemapxml-NS_14-id-21-55165.xml\"\"\".split(\"\\n\")\n",
    "\n",
    "r = requests.get(sitemaps[0])\n",
    "root = ET.fromstring(r.text)\n",
    "print(root.tag, root.tail, root.attrib, f\"Has {len([0 for child in root])} children\" )\n"
   ]
  },
  {
   "cell_type": "code",
   "execution_count": 2,
   "metadata": {},
   "outputs": [
    {
     "name": "stdout",
     "output_type": "stream",
     "text": [
      "\n",
      "\t\n",
      "\t\thttps://lotr.fandom.com/wiki/Main_Page\n",
      "\t\t2023-04-18T00:14:38Z\n",
      "\t\t1.0\n",
      "\t\n",
      "\t\thttps://lotr.fandom.com/wiki/Wellington\n",
      "\t\t2023-01-27T23:07:57Z\n",
      "\t\t1.0\n",
      "\t\n",
      "\t\thttps://lotr.fandom.com/wiki/Fellowship_of_the_Ring_(group)\n",
      "\t\t2023-04-15T02:03:25Z\n",
      "\t\t1.0\n",
      "\t\n",
      "\t\thttps://lotr.fandom.com/wiki/Beorn\n",
      "\t\t2023-01-03T10:01:41Z\n",
      "\t\t1.0\n",
      "\t\n",
      "\t\thttps://lotr.fandom.com/wiki/Melkor\n",
      "\t\t2023-04-08T17:25:33Z\n",
      "\t\t1.0\n",
      "\t\n",
      "\t\thttps://lotr.fandom.com/wiki/Amroth\n",
      "\t\t2023-04-10T13:17:07Z\n",
      "\t\t1.0\n",
      "\t\n",
      "\t\thttps://lotr.fa\n"
     ]
    }
   ],
   "source": [
    "def pre_order(root:ET.Element, indents=0):\n",
    "    ret_string = \"\"\n",
    "    for child in root:\n",
    "        ret_string += \"\\n\" + pre_order(child, indents+1)\n",
    "    return \"\\n\" + \"\\t\"*indents+ root.text + ret_string\n",
    "\n",
    "prettyTree = pre_order(root)\n",
    "\n",
    "def rek_replace(in_str:str, repl_tup:tuple =(\"\\n\\n\", \"\\n\"))-> str:\n",
    "    out_str = in_str.replace(*repl_tup)\n",
    "    if in_str == out_str: return out_str\n",
    "    else:\n",
    "        return rek_replace(out_str)\n",
    "\n",
    "print(rek_replace(prettyTree[:500]))"
   ]
  },
  {
   "cell_type": "code",
   "execution_count": null,
   "metadata": {},
   "outputs": [],
   "source": [
    "rek_replace(prettyTree)"
   ]
  },
  {
   "attachments": {},
   "cell_type": "markdown",
   "metadata": {},
   "source": [
    "Alright, so a bunch of stuff but site links are separated from everything else by newlines. let's use that fact to get a list of all sites and count how many there are."
   ]
  },
  {
   "cell_type": "code",
   "execution_count": 3,
   "metadata": {},
   "outputs": [
    {
     "data": {
      "text/plain": [
       "(6978,\n",
       " ['https://lotr.fandom.com/wiki/Main_Page',\n",
       "  'https://lotr.fandom.com/wiki/Wellington',\n",
       "  'https://lotr.fandom.com/wiki/Fellowship_of_the_Ring_(group)',\n",
       "  'https://lotr.fandom.com/wiki/Beorn',\n",
       "  'https://lotr.fandom.com/wiki/Melkor',\n",
       "  'https://lotr.fandom.com/wiki/Amroth',\n",
       "  'https://lotr.fandom.com/wiki/Aul%C3%AB',\n",
       "  'https://lotr.fandom.com/wiki/Middle-earth',\n",
       "  'https://lotr.fandom.com/wiki/Peter_Jackson',\n",
       "  'https://lotr.fandom.com/wiki/Frodo_Baggins'])"
      ]
     },
     "execution_count": 3,
     "metadata": {},
     "output_type": "execute_result"
    }
   ],
   "source": [
    "sites = []\n",
    "def fill_sites(root:ET.Element):\n",
    "    sites.extend(list(filter(lambda x : \"https\" in x, root.text.split(\"\\n\"))))\n",
    "    for child in root:\n",
    "        fill_sites(child)\n",
    "\n",
    "for sitemap in sitemaps:\n",
    "    r = requests.get(sitemap)\n",
    "    root = ET.fromstring(r.text)\n",
    "    fill_sites(root)\n",
    "len(sites), sites[:10]\n"
   ]
  },
  {
   "attachments": {},
   "cell_type": "markdown",
   "metadata": {},
   "source": [
    "## extracting content"
   ]
  },
  {
   "cell_type": "code",
   "execution_count": 4,
   "metadata": {},
   "outputs": [],
   "source": [
    "from bs4 import BeautifulSoup\n",
    "import numpy as np\n",
    "\n",
    "r = requests.get(sites[9])\n",
    "\n",
    "soup = BeautifulSoup(r.content, \"html.parser\")\n",
    "#print(soup.prettify()) #Better look at this page witht he dev-tools of your browser."
   ]
  },
  {
   "attachments": {},
   "cell_type": "markdown",
   "metadata": {},
   "source": [
    "Having had a look on the page we want to get the page title first: "
   ]
  },
  {
   "cell_type": "code",
   "execution_count": 5,
   "metadata": {},
   "outputs": [
    {
     "data": {
      "text/plain": [
       "'Frodo Baggins'"
      ]
     },
     "execution_count": 5,
     "metadata": {},
     "output_type": "execute_result"
    }
   ],
   "source": [
    "title = soup.find(id=\"firstHeading\").get_text().strip()\n",
    "title"
   ]
  },
  {
   "attachments": {},
   "cell_type": "markdown",
   "metadata": {},
   "source": [
    "We can identify articles that definitely do not relate to Middle Earth by the category \"Real world\":"
   ]
  },
  {
   "cell_type": "code",
   "execution_count": 6,
   "metadata": {},
   "outputs": [
    {
     "data": {
      "text/plain": [
       "0"
      ]
     },
     "execution_count": 6,
     "metadata": {},
     "output_type": "execute_result"
    }
   ],
   "source": [
    "AAA =[]\n",
    "for link in soup.find_all(\"a\"):\n",
    "    try:\n",
    "        AAA.append(link['title' ])\n",
    "    except: pass\n",
    "\n",
    "AAA = np.array(AAA)\n",
    "(AAA==\"Category:Real world\").sum()"
   ]
  },
  {
   "attachments": {},
   "cell_type": "markdown",
   "metadata": {},
   "source": [
    "The categories seem like super useful information, let's extract them more systematically:"
   ]
  },
  {
   "cell_type": "code",
   "execution_count": 7,
   "metadata": {},
   "outputs": [
    {
     "data": {
      "text/plain": [
       "['Featured articles',\n",
       " 'Hobbits',\n",
       " 'Cleanup',\n",
       " 'Baggins',\n",
       " 'Elf friends',\n",
       " 'Fellowship members',\n",
       " 'Major characters (The Lord of the Rings)',\n",
       " 'The Lord of the Rings characters',\n",
       " 'The Hobbit: An Unexpected Journey Characters',\n",
       " 'Bearers of the One Ring',\n",
       " 'The Fellowship of the Ring (film) characters',\n",
       " 'The Two Towers (film) characters',\n",
       " 'The Return of the King (film) characters']"
      ]
     },
     "execution_count": 7,
     "metadata": {},
     "output_type": "execute_result"
    }
   ],
   "source": [
    "categories = [item[\"data-name\"] for item in soup.find_all(\"li\", {\"class\":\"category normal\"})]\n",
    "categories"
   ]
  },
  {
   "attachments": {},
   "cell_type": "markdown",
   "metadata": {},
   "source": [
    "Let's also get the sidebar information:"
   ]
  },
  {
   "cell_type": "code",
   "execution_count": 8,
   "metadata": {},
   "outputs": [
    {
     "data": {
      "text/plain": [
       "2"
      ]
     },
     "execution_count": 8,
     "metadata": {},
     "output_type": "execute_result"
    }
   ],
   "source": [
    "asides = soup.find_all(\"aside\")\n",
    "len(asides)"
   ]
  },
  {
   "attachments": {},
   "cell_type": "markdown",
   "metadata": {},
   "source": [
    "Okay, so multiple asides, inspecting the page in browser we see that we can filter them by seeing if they have an h2-tag containing the page's title."
   ]
  },
  {
   "cell_type": "code",
   "execution_count": 9,
   "metadata": {},
   "outputs": [
    {
     "data": {
      "text/plain": [
       "(['Frodo Baggins',\n",
       "  'Biographical information',\n",
       "  'Physical description',\n",
       "  'Media portrayal'],\n",
       " [])"
      ]
     },
     "execution_count": 9,
     "metadata": {},
     "output_type": "execute_result"
    }
   ],
   "source": [
    "h2_text = [item.get_text().strip() for item in asides[0].find_all(\"h2\")]\n",
    "h2_text, [item.get_text().strip() for item in asides[1].find_all(\"h2\")]"
   ]
  },
  {
   "cell_type": "code",
   "execution_count": 10,
   "metadata": {},
   "outputs": [],
   "source": [
    "h2_text = [item.get_text().strip() for item in asides[0].find_all(\"h2\")]\n",
    "\n",
    "for sidebar in asides: # Looking through the <aside>-tags and stopping the search when we found the right one\n",
    "    h2_text = [item.get_text().strip() for item in sidebar.find_all(\"h2\")]\n",
    "    if title in h2_text:\n",
    "        break"
   ]
  },
  {
   "attachments": {},
   "cell_type": "markdown",
   "metadata": {},
   "source": [
    "Looking at the website, we see that the sidebar is subdivided into sections, each section holds the category names as h3's and the values in a div that comes after. Putting this to use:"
   ]
  },
  {
   "cell_type": "code",
   "execution_count": 11,
   "metadata": {},
   "outputs": [],
   "source": [
    "sections = sidebar.find_all(\"section\")"
   ]
  },
  {
   "cell_type": "code",
   "execution_count": 12,
   "metadata": {},
   "outputs": [
    {
     "data": {
      "text/plain": [
       "('Biographical information',\n",
       " {'Other names': 'Frodo of the Nine Fingers, Nine-Fingered Frodo, Maura Labingi(Westron name),Mr. Underhill,Sneaky hobbit (by Gollum)',\n",
       "  'Titles': 'Bearer of the One Ring, Elf-friend, Deputy Mayor of Michel Delving',\n",
       "  'Birth': 'September 22, TA 2968 (SR 1368)',\n",
       "  'Rule': \"November, TA 3019 to Mid-year's Day, TA 3020\",\n",
       "  'Death': 'Unknown (Last sighting September 29, 3021) (SR 1421)',\n",
       "  'Weapon': 'Sting and Barrow-blade'})"
      ]
     },
     "execution_count": 12,
     "metadata": {},
     "output_type": "execute_result"
    }
   ],
   "source": [
    "section = sections[0]\n",
    "\n",
    "\n",
    "import typing\n",
    "import bs4\n",
    "def get_section_content(section: bs4.element.Tag)-> dict: \n",
    "    ret_dict = dict()\n",
    "    for item in section.find_all(\"h3\"):    \n",
    "        val = item.nextSibling.nextSibling.getText()\n",
    "        ret_dict[item.getText()] = val\n",
    "    return section.find(\"h2\").getText() ,ret_dict\n",
    "get_section_content(section)"
   ]
  },
  {
   "cell_type": "code",
   "execution_count": 13,
   "metadata": {},
   "outputs": [
    {
     "data": {
      "text/plain": [
       "{'Biographical information': {'Other names': 'Frodo of the Nine Fingers, Nine-Fingered Frodo, Maura Labingi(Westron name),Mr. Underhill,Sneaky hobbit (by Gollum)',\n",
       "  'Titles': 'Bearer of the One Ring, Elf-friend, Deputy Mayor of Michel Delving',\n",
       "  'Birth': 'September 22, TA 2968 (SR 1368)',\n",
       "  'Rule': \"November, TA 3019 to Mid-year's Day, TA 3020\",\n",
       "  'Death': 'Unknown (Last sighting September 29, 3021) (SR 1421)',\n",
       "  'Weapon': 'Sting and Barrow-blade'},\n",
       " 'Physical description': {'Gender': 'Male',\n",
       "  'Height': \"4'1” (1.24 m)\",\n",
       "  'Hair': 'Brown',\n",
       "  'Eyes': 'Blue',\n",
       "  'Culture': 'Shire-hobbit (Brandybuck family/Baggins family)'},\n",
       " 'Media portrayal': {'Actor': 'Elijah Wood (LOTR Trilogy)Valery Dyachenko (Khraniteli)',\n",
       "  'Voice': 'Elijah Wood (video games)'}}"
      ]
     },
     "execution_count": 13,
     "metadata": {},
     "output_type": "execute_result"
    }
   ],
   "source": [
    "def get_sidebar(sidebar: bs4.element.Tag):\n",
    "    sections = sidebar.find_all(\"section\")\n",
    "    ret_dict = dict()\n",
    "    for section in sections:\n",
    "        key, value = get_section_content(section)\n",
    "        ret_dict[key] = value\n",
    "    return ret_dict\n",
    "get_sidebar(sidebar)"
   ]
  },
  {
   "attachments": {},
   "cell_type": "markdown",
   "metadata": {},
   "source": [
    "Let's also get the first paragraph, the one before the Table of Contents"
   ]
  },
  {
   "cell_type": "code",
   "execution_count": 14,
   "metadata": {},
   "outputs": [],
   "source": [
    "ele = soup.find(id=\"toc\")\n"
   ]
  },
  {
   "cell_type": "code",
   "execution_count": 24,
   "metadata": {},
   "outputs": [
    {
     "data": {
      "text/plain": [
       "<p>\n",
       "<aside class=\"portable-infobox pi-background pi-border-color pi-theme-Hobbits pi-layout-default\" role=\"region\">\n",
       "<figure class=\"pi-item pi-image\" data-source=\"image\">\n",
       "<a class=\"image image-thumbnail\" href=\"https://static.wikia.nocookie.net/lotr/images/3/32/Frodo_%28FotR%29.png/revision/latest?cb=20221006065757\" title=\"\">\n",
       "<img alt=\"\" class=\"pi-image-thumbnail\" data-image-key=\"Frodo_%28FotR%29.png\" data-image-name=\"Frodo (FotR).png\" height=\"225\" src=\"https://static.wikia.nocookie.net/lotr/images/3/32/Frodo_%28FotR%29.png/revision/latest/scale-to-width-down/350?cb=20221006065757\" srcset=\"https://static.wikia.nocookie.net/lotr/images/3/32/Frodo_%28FotR%29.png/revision/latest/scale-to-width-down/350?cb=20221006065757 1x, https://static.wikia.nocookie.net/lotr/images/3/32/Frodo_%28FotR%29.png/revision/latest/scale-to-width-down/700?cb=20221006065757 2x\" width=\"270\">\n",
       "</img></a>\n",
       "<figcaption class=\"pi-item-spacing pi-caption\">Frodo, as portrayed by Elijah Wood</figcaption>\n",
       "</figure>\n",
       "<h2 class=\"pi-item pi-item-spacing pi-title pi-secondary-background\" data-source=\"name\">Frodo Baggins</h2>\n",
       "<section class=\"pi-item pi-group pi-border-color\">\n",
       "<h2 class=\"pi-item pi-header pi-secondary-font pi-item-spacing pi-secondary-background\">Biographical information</h2>\n",
       "<div class=\"pi-item pi-data pi-item-spacing pi-border-color\" data-source=\"othernames\">\n",
       "<h3 class=\"pi-data-label pi-secondary-font\">Other names</h3>\n",
       "<div class=\"pi-data-value pi-font\">Frodo of the Nine Fingers, Nine-Fingered Frodo, Maura Labingi<br/>(<a href=\"/wiki/Westron\" title=\"Westron\">Westron</a> name),<br/>Mr. <a href=\"/wiki/Underhill\" title=\"Underhill\">Underhill</a>,<br/><p>Sneaky hobbit (by Gollum)</p></div>\n",
       "</div>\n",
       "<div class=\"pi-item pi-data pi-item-spacing pi-border-color\" data-source=\"title\">\n",
       "<h3 class=\"pi-data-label pi-secondary-font\">Titles</h3>\n",
       "<div class=\"pi-data-value pi-font\">Bearer of the <a href=\"/wiki/One_Ring\" title=\"One Ring\">One Ring</a>, Elf-friend, Deputy <a href=\"/wiki/Mayor_of_Michel_Delving\" title=\"Mayor of Michel Delving\">Mayor of Michel Delving</a></div>\n",
       "</div>\n",
       "<div class=\"pi-item pi-data pi-item-spacing pi-border-color\" data-source=\"birth\">\n",
       "<h3 class=\"pi-data-label pi-secondary-font\">Birth</h3>\n",
       "<div class=\"pi-data-value pi-font\"><a href=\"/wiki/September_22\" title=\"September 22\">September 22</a>, <a href=\"/wiki/TA_2968\" title=\"TA 2968\">TA 2968</a> (SR 1368)</div>\n",
       "</div>\n",
       "<div class=\"pi-item pi-data pi-item-spacing pi-border-color\" data-source=\"rule\">\n",
       "<h3 class=\"pi-data-label pi-secondary-font\">Rule</h3>\n",
       "<div class=\"pi-data-value pi-font\"><a href=\"/wiki/November\" title=\"November\">November</a>, <a href=\"/wiki/TA_3019\" title=\"TA 3019\">TA 3019</a> to <a href=\"/wiki/Mid-year%27s_Day\" title=\"Mid-year's Day\">Mid-year's Day</a>, <a href=\"/wiki/TA_3020\" title=\"TA 3020\">TA 3020</a></div>\n",
       "</div>\n",
       "<div class=\"pi-item pi-data pi-item-spacing pi-border-color\" data-source=\"death\">\n",
       "<h3 class=\"pi-data-label pi-secondary-font\">Death</h3>\n",
       "<div class=\"pi-data-value pi-font\">Unknown (Last sighting <a href=\"/wiki/September_29\" title=\"September 29\">September 29</a>, <a href=\"/wiki/TA_3021\" title=\"TA 3021\">3021</a>) (SR 1421)</div>\n",
       "</div>\n",
       "<div class=\"pi-item pi-data pi-item-spacing pi-border-color\" data-source=\"weapon\">\n",
       "<h3 class=\"pi-data-label pi-secondary-font\">Weapon</h3>\n",
       "<div class=\"pi-data-value pi-font\"><a href=\"/wiki/Sting\" title=\"Sting\">Sting</a> and <a href=\"/wiki/Barrow-blades\" title=\"Barrow-blades\">Barrow-blade</a></div>\n",
       "</div>\n",
       "</section>\n",
       "<section class=\"pi-item pi-group pi-border-color\">\n",
       "<h2 class=\"pi-item pi-header pi-secondary-font pi-item-spacing pi-secondary-background\">Physical description</h2>\n",
       "<div class=\"pi-item pi-data pi-item-spacing pi-border-color\" data-source=\"gender\">\n",
       "<h3 class=\"pi-data-label pi-secondary-font\">Gender</h3>\n",
       "<div class=\"pi-data-value pi-font\">Male</div>\n",
       "</div>\n",
       "<div class=\"pi-item pi-data pi-item-spacing pi-border-color\" data-source=\"height\">\n",
       "<h3 class=\"pi-data-label pi-secondary-font\">Height</h3>\n",
       "<div class=\"pi-data-value pi-font\">4'1” (1.24 m)</div>\n",
       "</div>\n",
       "<div class=\"pi-item pi-data pi-item-spacing pi-border-color\" data-source=\"hair\">\n",
       "<h3 class=\"pi-data-label pi-secondary-font\">Hair</h3>\n",
       "<div class=\"pi-data-value pi-font\">Brown</div>\n",
       "</div>\n",
       "<div class=\"pi-item pi-data pi-item-spacing pi-border-color\" data-source=\"eyes\">\n",
       "<h3 class=\"pi-data-label pi-secondary-font\">Eyes</h3>\n",
       "<div class=\"pi-data-value pi-font\">Blue</div>\n",
       "</div>\n",
       "<div class=\"pi-item pi-data pi-item-spacing pi-border-color\" data-source=\"culture\">\n",
       "<h3 class=\"pi-data-label pi-secondary-font\">Culture</h3>\n",
       "<div class=\"pi-data-value pi-font\"><a class=\"mw-redirect\" href=\"/wiki/Shire\" title=\"Shire\">Shire</a>-hobbit (<a href=\"/wiki/Brandybuck\" title=\"Brandybuck\">Brandybuck family</a>/<a class=\"mw-redirect\" href=\"/wiki/Baggins_family\" title=\"Baggins family\">Baggins family</a>)</div>\n",
       "</div>\n",
       "</section>\n",
       "<section class=\"pi-item pi-group pi-border-color\">\n",
       "<h2 class=\"pi-item pi-header pi-secondary-font pi-item-spacing pi-secondary-background\">Media portrayal</h2>\n",
       "<div class=\"pi-item pi-data pi-item-spacing pi-border-color\" data-source=\"actor\">\n",
       "<h3 class=\"pi-data-label pi-secondary-font\">Actor</h3>\n",
       "<div class=\"pi-data-value pi-font\"><a href=\"/wiki/Elijah_Wood\" title=\"Elijah Wood\">Elijah Wood</a> (LOTR Trilogy)<p>Valery Dyachenko (Khraniteli)</p></div>\n",
       "</div>\n",
       "<div class=\"pi-item pi-data pi-item-spacing pi-border-color\" data-source=\"voice\">\n",
       "<h3 class=\"pi-data-label pi-secondary-font\">Voice</h3>\n",
       "<div class=\"pi-data-value pi-font\">Elijah Wood (video games)</div>\n",
       "</div>\n",
       "</section>\n",
       "</aside>\n",
       "</p>"
      ]
     },
     "execution_count": 24,
     "metadata": {},
     "output_type": "execute_result"
    }
   ],
   "source": [
    "ele = ele.previous_sibling\n",
    "ele"
   ]
  },
  {
   "cell_type": "code",
   "execution_count": 25,
   "metadata": {},
   "outputs": [
    {
     "data": {
      "text/plain": [
       "1"
      ]
     },
     "execution_count": 25,
     "metadata": {},
     "output_type": "execute_result"
    }
   ],
   "source": [
    "len(ele.find_all(\"aside\"))"
   ]
  },
  {
   "cell_type": "code",
   "execution_count": 26,
   "metadata": {},
   "outputs": [
    {
     "name": "stdout",
     "output_type": "stream",
     "text": [
      "\"I will take the Ring, though I do not know the way.\"\n",
      "—Frodo, at the Council of Elrond, in The Fellowship of the Ring\n",
      "\n",
      "Frodo Baggins, son of Drogo Baggins, was a hobbit of the Shire in the late Third Age. He is commonly considered Tolkien's most renowned character for his leading role in the Quest of the Ring, in which he bore the One Ring to Mount Doom, where it was destroyed. He was a Ring-bearer, best friend to his gardener, Samwise Gamgee, and was one of three hobbits who sailed from Middle-earth to the Uttermost West at the end of the Third Age.\n"
     ]
    }
   ],
   "source": [
    "def get_overview_section(soup:bs4.BeautifulSoup):\n",
    "    ret_string = \"\"\n",
    "    ele = soup.find(id=\"toc\").previous_sibling\n",
    "    go_on = True\n",
    "    while go_on:\n",
    "        ret_string = ele.get_text().strip() + \"\\n\" + ret_string\n",
    "        ele = ele.previous_sibling\n",
    "        try:\n",
    "            go_on = (len(ele.findAll(\"aside\") )==0) and (ele.name != \"aside\" and ele is not None)\n",
    "        except:\n",
    "            pass\n",
    "    return ret_string.strip()\n",
    "print(get_overview_section(soup))"
   ]
  },
  {
   "attachments": {},
   "cell_type": "markdown",
   "metadata": {},
   "source": [
    "Alright this has to be good enough for now. We get the sidebar information and the text before the table of contents."
   ]
  },
  {
   "attachments": {},
   "cell_type": "markdown",
   "metadata": {},
   "source": [
    "# Set up and fill the RDB"
   ]
  },
  {
   "cell_type": "code",
   "execution_count": null,
   "metadata": {},
   "outputs": [],
   "source": [
    "import sqlite3 as sql\n",
    "\n",
    "conn = sql.connect('LOTR.db')"
   ]
  }
 ],
 "metadata": {
  "kernelspec": {
   "display_name": ".venv",
   "language": "python",
   "name": "python3"
  },
  "language_info": {
   "codemirror_mode": {
    "name": "ipython",
    "version": 3
   },
   "file_extension": ".py",
   "mimetype": "text/x-python",
   "name": "python",
   "nbconvert_exporter": "python",
   "pygments_lexer": "ipython3",
   "version": "3.8.8"
  },
  "orig_nbformat": 4
 },
 "nbformat": 4,
 "nbformat_minor": 2
}
